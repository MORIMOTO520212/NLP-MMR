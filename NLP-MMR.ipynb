{
    "cells": [
        {
            "cell_type": "markdown",
            "source": [
                "# TF (Term Frequency)"
            ],
            "metadata": {}
        },
        {
            "cell_type": "code",
            "execution_count": 19,
            "source": [
                "import MeCab\r\n",
                "\r\n",
                "tagger = MeCab.Tagger(\"-Owakati\")\r\n",
                "tagger = tagger.parse(\"親譲の無鉄砲で小供の時から損ばかりしている。\")\r\n",
                "tagger = tagger.split(\" \")\r\n",
                "tagger.remove(\"\\n\")\r\n",
                "print(tagger)"
            ],
            "outputs": [
                {
                    "output_type": "stream",
                    "name": "stdout",
                    "text": [
                        "['親', '譲', 'の', '無鉄砲', 'で', '小', '供', 'の', '時', 'から', '損', 'ばかり', 'し', 'て', 'いる', '。']\n"
                    ]
                }
            ],
            "metadata": {}
        },
        {
            "cell_type": "code",
            "execution_count": 20,
            "source": [
                "# 1文に対するTFを求める。\r\n",
                "def appearance(tagger): # リストの文字列\r\n",
                "    # 出現数をカウントする\r\n",
                "    text = tagger.copy()\r\n",
                "    appearances_list = []\r\n",
                "    length = len(text)\r\n",
                "    for i in range(length-1):\r\n",
                "        num = 1 # 単語の出現数\r\n",
                "        j = 0\r\n",
                "        for j in range(length-1):\r\n",
                "            if i == j: continue # 同じ場所はカウントしない\r\n",
                "            if text[i] == text[j]:\r\n",
                "                #text.pop(j) # 比較済みのものは削除\r\n",
                "                num+=1 # カウント\r\n",
                "        appearances_list.append(num)\r\n",
                "    return appearances_list"
            ],
            "outputs": [],
            "metadata": {}
        },
        {
            "cell_type": "code",
            "execution_count": 21,
            "source": [
                "print(\"Appearance：\", appearance(tagger))\r\n",
                "\r\n",
                "length = len(tagger) # 1文の長さ\r\n",
                "tagger_freq = [] # 出現頻度\r\n",
                "for i in appearance(tagger):\r\n",
                "    tagger_freq.append(i/length) # 単語の出現数/単語数\r\n",
                "\r\n",
                "print(\"Term Frequency：\",tagger_freq)"
            ],
            "outputs": [
                {
                    "output_type": "stream",
                    "name": "stdout",
                    "text": [
                        "Appearance： [1, 1, 2, 1, 1, 1, 1, 2, 1, 1, 1, 1, 1, 1, 1]\n",
                        "Term Frequency： [0.0625, 0.0625, 0.125, 0.0625, 0.0625, 0.0625, 0.0625, 0.125, 0.0625, 0.0625, 0.0625, 0.0625, 0.0625, 0.0625, 0.0625]\n"
                    ]
                }
            ],
            "metadata": {}
        },
        {
            "cell_type": "markdown",
            "source": [
                "# IDF (Inverse Document Frequency)"
            ],
            "metadata": {}
        },
        {
            "cell_type": "code",
            "execution_count": 22,
            "source": [
                "import math\r\n",
                "\r\n",
                "math.log(2/1) # log(全行数 / その単語が出現する行数)"
            ],
            "outputs": [
                {
                    "output_type": "execute_result",
                    "data": {
                        "text/plain": [
                            "0.6931471805599453"
                        ]
                    },
                    "metadata": {},
                    "execution_count": 22
                }
            ],
            "metadata": {}
        },
        {
            "cell_type": "code",
            "execution_count": 23,
            "source": [
                "def wordcnt(document):\r\n",
                "    sum = 0\r\n",
                "    for s in document: sum += len(s)\r\n",
                "    return sum"
            ],
            "outputs": [],
            "metadata": {}
        },
        {
            "cell_type": "code",
            "execution_count": 24,
            "source": [
                "# 1文に対するTFを求める。\r\n",
                "def appearance(tagger): # リストの文字列\r\n",
                "    # 出現数をカウントする\r\n",
                "    text = tagger.copy()\r\n",
                "    appearances_list = []\r\n",
                "    length = len(text)\r\n",
                "    for i in range(length-1):\r\n",
                "        num = 1 # 単語の出現数\r\n",
                "        j = 0\r\n",
                "        for j in range(length-1):\r\n",
                "            if i == j: continue # 同じ場所はカウントしない\r\n",
                "            if text[i] == text[j]:\r\n",
                "                #text.pop(j) # 比較済みのものは削除\r\n",
                "                num+=1 # カウント\r\n",
                "        appearances_list.append(num)\r\n",
                "    return appearances_list"
            ],
            "outputs": [],
            "metadata": {}
        },
        {
            "cell_type": "code",
            "execution_count": 1,
            "source": [
                "import numpy as np\r\n",
                "def cos_sim(v1, v2):\r\n",
                "    return np.dot(v1, v2) / (np.linalg.norm(v1) * np.linalg.norm(v2))\r\n",
                " \r\n",
                "v1 = [1, 0.5, 0.5]\r\n",
                "v2 = [0, 0.5, 1]\r\n",
                "cos_sim(v1, v2)"
            ],
            "outputs": [
                {
                    "output_type": "execute_result",
                    "data": {
                        "text/plain": [
                            "0.5477225575051661"
                        ]
                    },
                    "metadata": {},
                    "execution_count": 1
                }
            ],
            "metadata": {}
        }
    ],
    "metadata": {
        "orig_nbformat": 4,
        "language_info": {
            "name": "python",
            "version": "3.9.6",
            "mimetype": "text/x-python",
            "codemirror_mode": {
                "name": "ipython",
                "version": 3
            },
            "pygments_lexer": "ipython3",
            "nbconvert_exporter": "python",
            "file_extension": ".py"
        },
        "kernelspec": {
            "name": "python3",
            "display_name": "Python 3.9.6 64-bit"
        },
        "interpreter": {
            "hash": "3481a5348b794c178f59359b8dc7f7fad3f0001f835c9cfa137e3d71d83f0ac4"
        }
    },
    "nbformat": 4,
    "nbformat_minor": 2
}